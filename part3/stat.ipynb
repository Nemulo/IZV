{
 "cells": [
  {
   "cell_type": "markdown",
   "metadata": {},
   "source": [
    "# Uloha 2 \n",
    "\n",
    "## Overovanie hypotez\n",
    "\n",
    "### Hypoteza 1: Na silnicích první třídy se při nehodách umíralo se stejnou pravděpodobností jako dálnicích.\n",
    "\n",
    "Metoda : 𝜒2\n",
    "\n",
    "Nehoda, pri ktorej umrel aspon jeden clovek: p13a>0\n",
    "\n",
    "pravdepodobnost ze pri nehode na ceste prvej triedy umrel aspon jeden clovek: P(X)\n",
    "```\n",
    "P(X)=Σ(p36=1∧p13a>0)/Σ(p36=1)\n",
    "```\n",
    "\n",
    "pravdepodobnost ze pri nehode na dialnici umrel aspon jeden clovek: \n",
    "P(Y)\n",
    "```\n",
    "P(Y)=Σ(p36=0∧p13a>0)/Σ(p36=0)\n",
    "```\n",
    "Hypoteza : P(X) = P(Y)"
   ]
  },
  {
   "cell_type": "code",
   "execution_count": 23,
   "metadata": {},
   "outputs": [],
   "source": [
    "import pandas as pd\n",
    "import numpy as np\n",
    "\n",
    "df = pd.read_pickle(\"accidents.pkl.gz\")\n",
    "#vybereme iba dialnice a cesty prvej triedy\n",
    "df = df.loc[df['p36'].isin([0,1]),['p13a','p36']]\n",
    "#vsetky nehody pri ktorych umrel aspon jeden clovek nastavime na 1 \n",
    "df['p13a'] = df['p13a']>0\n"
   ]
  },
  {
   "cell_type": "markdown",
   "metadata": {},
   "source": [
    "## Vytvorenie crosstab"
   ]
  },
  {
   "cell_type": "code",
   "execution_count": 24,
   "metadata": {},
   "outputs": [
    {
     "data": {
      "text/html": [
       "<div>\n",
       "<style scoped>\n",
       "    .dataframe tbody tr th:only-of-type {\n",
       "        vertical-align: middle;\n",
       "    }\n",
       "\n",
       "    .dataframe tbody tr th {\n",
       "        vertical-align: top;\n",
       "    }\n",
       "\n",
       "    .dataframe thead th {\n",
       "        text-align: right;\n",
       "    }\n",
       "</style>\n",
       "<table border=\"1\" class=\"dataframe\">\n",
       "  <thead>\n",
       "    <tr style=\"text-align: right;\">\n",
       "      <th>p13a</th>\n",
       "      <th>False</th>\n",
       "      <th>True</th>\n",
       "    </tr>\n",
       "    <tr>\n",
       "      <th>p36</th>\n",
       "      <th></th>\n",
       "      <th></th>\n",
       "    </tr>\n",
       "  </thead>\n",
       "  <tbody>\n",
       "    <tr>\n",
       "      <th>0</th>\n",
       "      <td>24293</td>\n",
       "      <td>166</td>\n",
       "    </tr>\n",
       "    <tr>\n",
       "      <th>1</th>\n",
       "      <td>78618</td>\n",
       "      <td>911</td>\n",
       "    </tr>\n",
       "  </tbody>\n",
       "</table>\n",
       "</div>"
      ],
      "text/plain": [
       "p13a  False  True\n",
       "p36              \n",
       "0     24293   166\n",
       "1     78618   911"
      ]
     },
     "execution_count": 24,
     "metadata": {},
     "output_type": "execute_result"
    }
   ],
   "source": [
    "crosstab = pd.crosstab(index=df['p36'],columns=df['p13a'])\n",
    "crosstab"
   ]
  },
  {
   "cell_type": "markdown",
   "metadata": {},
   "source": [
    "## Vypocitanie 𝜒2 contingency"
   ]
  },
  {
   "cell_type": "code",
   "execution_count": 25,
   "metadata": {},
   "outputs": [
    {
     "name": "stdout",
     "output_type": "stream",
     "text": [
      "stat: 39.314921530329016\n",
      "stupen volnosti:1\n",
      "p-hodnota: 3.6067450279444316e-10\n",
      "ocakavany vysledok: [[24205.67901104   253.32098896]\n",
      " [78705.32098896   823.67901104]]\n"
     ]
    }
   ],
   "source": [
    "from scipy.stats import chi2_contingency\n",
    "stat,p,dof,expected = chi2_contingency(crosstab)\n",
    "print(f'stat: {stat}\\nstupen volnosti:{dof}\\np-hodnota: {p}\\nocakavany vysledok: {expected}')"
   ]
  },
  {
   "cell_type": "markdown",
   "metadata": {},
   "source": [
    "## Null Hypothesis\n",
    "\n",
    "H0: Nieje korelacia medzi typom cesty a fatalitou nehody"
   ]
  },
  {
   "cell_type": "code",
   "execution_count": 26,
   "metadata": {},
   "outputs": [
    {
     "name": "stdout",
     "output_type": "stream",
     "text": [
      "presnost=0.95%\n",
      "kriticka hodnota:3.841\n",
      "stat:39.315\n",
      "H0 vyvratene\n",
      "H0 vyvratene\n",
      "Ocakavany vysledok:\n",
      "[[24205.67901104   253.32098896]\n",
      " [78705.32098896   823.67901104]]\n"
     ]
    }
   ],
   "source": [
    "from scipy.stats import chi2\n",
    "probability = 0.95\n",
    "critical = chi2.ppf(probability,dof)\n",
    "print(f'presnost={probability}%\\nkriticka hodnota:{critical:.3f}\\nstat:{stat:.3f}')\n",
    "if abs(stat) >= critical:\n",
    "  print('H0 vyvratene')\n",
    "else:\n",
    "  print('H0 sa nepodarilo vyvratit')\n",
    "\n",
    "alpha = 0.05\n",
    "\n",
    "if p<=alpha:\n",
    "  print('H0 vyvratene')\n",
    "else:\n",
    "  print('H0 sa nepodarilo vyvratit')\n",
    "\n",
    "print(f'Ocakavany vysledok:\\n{expected}')\n"
   ]
  },
  {
   "cell_type": "markdown",
   "metadata": {},
   "source": [
    "## interpretacia statistiky\n",
    "\n",
    "Kedze uz vieme ze data v crosstab su nezavisle, vieme vypocitat pravdepodobnost aby sme vedeli rozhodnut o pravdivosti hypotezy\n",
    "P(X) = P(Y)"
   ]
  },
  {
   "cell_type": "code",
   "execution_count": 49,
   "metadata": {},
   "outputs": [
    {
     "name": "stdout",
     "output_type": "stream",
     "text": [
      "Hypoteza P(X) = P(Y): 0.01145 = 0.00679\n",
      "Hypoteza vyvratena\n"
     ]
    }
   ],
   "source": [
    "Px = crosstab[1][1]/(crosstab[1][1]+crosstab[0][1])\n",
    "Py = crosstab[1][0]/(crosstab[1][0]+crosstab[0][0])\n",
    "Px = round(Px,5)\n",
    "Py = round(Py,5)\n",
    "print(f'Hypoteza P(X) = P(Y): {Px} = {Py}')\n",
    "\n",
    "if Px == Py:\n",
    "  print('Hypoteza potvrdena')\n",
    "else:\n",
    "  print('Hypoteza vyvratena')"
   ]
  }
 ],
 "metadata": {
  "interpreter": {
   "hash": "916dbcbb3f70747c44a77c7bcd40155683ae19c65e1c03b4aa3499c5328201f1"
  },
  "kernelspec": {
   "display_name": "Python 3.9.7 64-bit",
   "language": "python",
   "name": "python3"
  },
  "language_info": {
   "codemirror_mode": {
    "name": "ipython",
    "version": 3
   },
   "file_extension": ".py",
   "mimetype": "text/x-python",
   "name": "python",
   "nbconvert_exporter": "python",
   "pygments_lexer": "ipython3",
   "version": "3.9.7"
  },
  "orig_nbformat": 4
 },
 "nbformat": 4,
 "nbformat_minor": 2
}
