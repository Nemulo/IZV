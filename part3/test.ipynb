{
 "cells": [
  {
   "cell_type": "code",
   "execution_count": 113,
   "metadata": {},
   "outputs": [],
   "source": [
    "from matplotlib import pyplot as plt\n",
    "from matplotlib import dates as mdates\n",
    "import contextily as ctx\n",
    "import geopandas\n",
    "import pandas as pd\n",
    "import seaborn as sns\n",
    "import numpy as np\n",
    "import os\n",
    "import gzip\n",
    "import pickle\n",
    "import datetime as dt\n",
    "import os.path\n",
    "from doc import dataf"
   ]
  },
  {
   "cell_type": "code",
   "execution_count": 146,
   "metadata": {},
   "outputs": [],
   "source": [
    "df = dataf('accidents.pkl.gz')"
   ]
  },
  {
   "cell_type": "code",
   "execution_count": 147,
   "metadata": {},
   "outputs": [],
   "source": [
    "newdf = df.loc[(df['p11'].isin([1,3,5,6,7,8,9])&(df['date'].dt.year>2019)),['p11','date','p13a','p13b','p13c']]\n"
   ]
  },
  {
   "cell_type": "code",
   "execution_count": 144,
   "metadata": {},
   "outputs": [],
   "source": []
  },
  {
   "cell_type": "code",
   "execution_count": 145,
   "metadata": {},
   "outputs": [
    {
     "data": {
      "text/html": [
       "<div>\n",
       "<style scoped>\n",
       "    .dataframe tbody tr th:only-of-type {\n",
       "        vertical-align: middle;\n",
       "    }\n",
       "\n",
       "    .dataframe tbody tr th {\n",
       "        vertical-align: top;\n",
       "    }\n",
       "\n",
       "    .dataframe thead th {\n",
       "        text-align: right;\n",
       "    }\n",
       "</style>\n",
       "<table border=\"1\" class=\"dataframe\">\n",
       "  <thead>\n",
       "    <tr style=\"text-align: right;\">\n",
       "      <th></th>\n",
       "      <th>Usmrtenych osob</th>\n",
       "      <th>tazko zranenych osob</th>\n",
       "      <th>lahko zranenych osob</th>\n",
       "    </tr>\n",
       "    <tr>\n",
       "      <th>p11</th>\n",
       "      <th></th>\n",
       "      <th></th>\n",
       "      <th></th>\n",
       "    </tr>\n",
       "  </thead>\n",
       "  <tbody>\n",
       "    <tr>\n",
       "      <th>obsah alkoholu v krvi 1,5 ‰ a více</th>\n",
       "      <td>31</td>\n",
       "      <td>138</td>\n",
       "      <td>1946</td>\n",
       "    </tr>\n",
       "    <tr>\n",
       "      <th>obsah alkoholu v krvi do 0,24 ‰</th>\n",
       "      <td>3</td>\n",
       "      <td>13</td>\n",
       "      <td>136</td>\n",
       "    </tr>\n",
       "    <tr>\n",
       "      <th>obsah alkoholu v krvi od 0,24 ‰ do 0,5 ‰</th>\n",
       "      <td>4</td>\n",
       "      <td>19</td>\n",
       "      <td>181</td>\n",
       "    </tr>\n",
       "    <tr>\n",
       "      <th>obsah alkoholu v krvi od 0,5 ‰ do 0,8 ‰</th>\n",
       "      <td>8</td>\n",
       "      <td>12</td>\n",
       "      <td>178</td>\n",
       "    </tr>\n",
       "    <tr>\n",
       "      <th>obsah alkoholu v krvi od 0,8 ‰ do 1,0 ‰</th>\n",
       "      <td>3</td>\n",
       "      <td>13</td>\n",
       "      <td>149</td>\n",
       "    </tr>\n",
       "    <tr>\n",
       "      <th>obsah alkoholu v krvi od 1,0 ‰ do 1,5 ‰</th>\n",
       "      <td>13</td>\n",
       "      <td>45</td>\n",
       "      <td>475</td>\n",
       "    </tr>\n",
       "    <tr>\n",
       "      <th>osoba bola pod vplyvom alkoholu a drog</th>\n",
       "      <td>4</td>\n",
       "      <td>8</td>\n",
       "      <td>43</td>\n",
       "    </tr>\n",
       "  </tbody>\n",
       "</table>\n",
       "</div>"
      ],
      "text/plain": [
       "                                          Usmrtenych osob  \\\n",
       "p11                                                         \n",
       "obsah alkoholu v krvi 1,5 ‰ a více                     31   \n",
       "obsah alkoholu v krvi do 0,24 ‰                         3   \n",
       "obsah alkoholu v krvi od 0,24 ‰ do 0,5 ‰                4   \n",
       "obsah alkoholu v krvi od 0,5 ‰ do 0,8 ‰                 8   \n",
       "obsah alkoholu v krvi od 0,8 ‰ do 1,0 ‰                 3   \n",
       "obsah alkoholu v krvi od 1,0 ‰ do 1,5 ‰                13   \n",
       "osoba bola pod vplyvom alkoholu a drog                  4   \n",
       "\n",
       "                                          tazko zranenych osob  \\\n",
       "p11                                                              \n",
       "obsah alkoholu v krvi 1,5 ‰ a více                         138   \n",
       "obsah alkoholu v krvi do 0,24 ‰                             13   \n",
       "obsah alkoholu v krvi od 0,24 ‰ do 0,5 ‰                    19   \n",
       "obsah alkoholu v krvi od 0,5 ‰ do 0,8 ‰                     12   \n",
       "obsah alkoholu v krvi od 0,8 ‰ do 1,0 ‰                     13   \n",
       "obsah alkoholu v krvi od 1,0 ‰ do 1,5 ‰                     45   \n",
       "osoba bola pod vplyvom alkoholu a drog                       8   \n",
       "\n",
       "                                          lahko zranenych osob  \n",
       "p11                                                             \n",
       "obsah alkoholu v krvi 1,5 ‰ a více                        1946  \n",
       "obsah alkoholu v krvi do 0,24 ‰                            136  \n",
       "obsah alkoholu v krvi od 0,24 ‰ do 0,5 ‰                   181  \n",
       "obsah alkoholu v krvi od 0,5 ‰ do 0,8 ‰                    178  \n",
       "obsah alkoholu v krvi od 0,8 ‰ do 1,0 ‰                    149  \n",
       "obsah alkoholu v krvi od 1,0 ‰ do 1,5 ‰                    475  \n",
       "osoba bola pod vplyvom alkoholu a drog                      43  "
      ]
     },
     "execution_count": 145,
     "metadata": {},
     "output_type": "execute_result"
    }
   ],
   "source": [
    "newdf"
   ]
  },
  {
   "cell_type": "code",
   "execution_count": null,
   "metadata": {},
   "outputs": [],
   "source": []
  }
 ],
 "metadata": {
  "language_info": {
   "name": "python"
  },
  "orig_nbformat": 4
 },
 "nbformat": 4,
 "nbformat_minor": 2
}
